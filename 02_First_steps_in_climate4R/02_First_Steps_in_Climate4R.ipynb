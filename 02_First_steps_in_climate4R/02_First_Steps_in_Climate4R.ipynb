{
 "cells": [
  {
   "cell_type": "markdown",
   "metadata": {
    "tags": []
   },
   "source": [
    "# First Steps in Climate4R\n",
    "\n",
    "In this jupyter `R` notebook we describe the main basics of 3 core climate4R libraries, namely `loadeR`, `transformeR` and `visualizeR`. The main functionalities of each library are:\n",
    "* `loadeR`: is an `R` package for climate data access building on the NetCDF-Java API. It allows user-friendly data access either from local or remote locations (e.g. OPeNDAP servers) and it is fully integrated with the User Data Gateway (UDG), a Climate Data Service deployed and maintained by the Santander Meteorology Group. loadeR has been conceived to work in the framework of both seasonal forecasting and climate change studies. Thus, it considers ensemble members as a basic dimension of its two main data structures (grid and station). Find out more about this package at the [loadeR wiki](https://github.com/SantanderMetGroup/loadeR/wiki).\n",
    "* `transformeR`: is an `R` package for climate data manipulation and transformation including subsetting, regridding and data conversion. Find out more about this package at the [transformeR wiki](https://github.com/SantanderMetGroup/transformeR/wiki).\n",
    "* `visualizeR`: is an `R` package for climate data visualization, with special focus on ensemble forecasting and uncertainty communication. It includes functions for visualizing climatological, forecast and evaluation products, and combinations of them. Find out more about this package at the [visualizeR wiki](https://github.com/SantanderMetGroup/visualizeR/wiki).\n",
    "\n",
    "By the end of the notebook, the user would have acquired basic competences on the use of these libraries. We refer the reader to either the GitHub climate4R repository (https://github.com/SantanderMetGroup/climate4R) and the main reference manuscript [1] for more information.\n",
    "\n",
    "The notebook is divided in 2 different parts:\n",
    " * [Basic operations with climate4R](#Basic-operations-with-climate4R)\n",
    " * [Case study: Computing climate change signals of global climate simulations with climate4R](#Case-study:-Computing-climate-change-signals-of-global-climate-simulations-with-climate4R)\n",
    "\n",
    "To begin, we load the `R` libraries (please see module [01_Introduction](../01_Introduction) and/or the climate4R GitHub site (https://github.com/SantanderMetGroup/climate4R) for guidelines on the installation of the climate4R packages).\n"
   ]
  },
  {
   "cell_type": "code",
   "execution_count": 1,
   "metadata": {},
   "outputs": [
    {
     "name": "stderr",
     "output_type": "stream",
     "text": [
      "Loading required package: rJava\n",
      "\n",
      "Loading required package: loadeR.java\n",
      "\n",
      "Java version 11x amd64 by Oracle Corporation detected\n",
      "\n",
      "NetCDF Java Library v4.6.0-SNAPSHOT (23 Apr 2015) loaded and ready\n",
      "\n",
      "Loading required package: climate4R.UDG\n",
      "\n",
      "climate4R.UDG version 0.2.4 (2022-06-15) is loaded\n",
      "\n",
      "Please use 'citation(\"climate4R.UDG\")' to cite this package.\n",
      "\n",
      "loadeR version 1.7.1 (2021-07-05) is loaded\n",
      "\n",
      "Please use 'citation(\"loadeR\")' to cite this package.\n",
      "\n"
     ]
    },
    {
     "name": "stdout",
     "output_type": "stream",
     "text": [
      "\n",
      "    _______   ____  ___________________  __  ________ \n",
      "   / ___/ /  / /  |/  / __  /_  __/ __/ / / / / __  / \n",
      "  / /  / /  / / /|_/ / /_/ / / / / __/ / /_/ / /_/_/  \n",
      " / /__/ /__/ / /  / / __  / / / / /__ /___  / / \\ \\ \n",
      " \\___/____/_/_/  /_/_/ /_/ /_/  \\___/    /_/\\/   \\_\\ \n",
      " \n",
      "      github.com/SantanderMetGroup/climate4R\n",
      "\n"
     ]
    },
    {
     "name": "stderr",
     "output_type": "stream",
     "text": [
      "transformeR version 2.1.0 (2021-03-17) is loaded\n",
      "\n",
      "WARNING: Your current version of transformeR (v2.1.0) is not up-to-date\n",
      "\n",
      "Get the latest stable version (2.1.4) using <devtools::install_github('SantanderMetGroup/transformeR')>\n",
      "\n",
      "Please see 'citation(\"transformeR\")' to cite this package.\n",
      "\n",
      "Warning message:\n",
      "“no DISPLAY variable so Tk is not available”\n",
      "visualizeR version 1.6.0 (2020-05-23) is loaded\n",
      "\n",
      "WARNING: Your current version of visualizeR (v1.6.0) is not up-to-date\n",
      "\n",
      "Get the latest stable version (1.6.1) using <devtools::install_github('SantanderMetGroup/visualizeR')>\n",
      "\n",
      "Please see 'citation(\"visualizeR\")' to cite this package.\n",
      "\n"
     ]
    }
   ],
   "source": [
    "library(loadeR)\n",
    "library(transformeR)\n",
    "library(visualizeR)"
   ]
  },
  {
   "cell_type": "markdown",
   "metadata": {},
   "source": [
    "In addition, we load the non-climate4R package `RColorBrewer` for visualization purposes."
   ]
  },
  {
   "cell_type": "code",
   "execution_count": 2,
   "metadata": {},
   "outputs": [],
   "source": [
    "library(RColorBrewer)"
   ]
  },
  {
   "cell_type": "markdown",
   "metadata": {
    "tags": []
   },
   "source": [
    "##  Basic operations with climate4R\n",
    "In this section we explore the main functionalities of `loadeR`, `transformeR` and `visualizeR`."
   ]
  },
  {
   "cell_type": "markdown",
   "metadata": {
    "tags": []
   },
   "source": [
    "### LoadeR - Loading climate data\n",
    "\n",
    "In this section we describe how to load climate data into our `R` session in 2 different ways (1) by pointing to the User Data Gateaway (UDG, https://meteo.unican.es/trac/wiki/udg) climate service, and (2) by pointing directly to the NetCDF (.`nc`) files. Climate4R mostly works with `.nc` files, which is the most common data format in the climate sciences due to their ability to store multi-dimensional data. Nevertheless, `loadeR` also permits to load climate data from `.txt` files (this will be reviewed in future notebooks).\n",
    "\n",
    "In order to exemplify the use of this loading functions we will retrieve small sets of data, that will load faster and taking less memory than \"real world\" examples. We will take an area around the Iberian Peninsula and 3 years (1995-1997):"
   ]
  },
  {
   "cell_type": "code",
   "execution_count": 3,
   "metadata": {},
   "outputs": [],
   "source": [
    "range.lon = c(-10,  3)\n",
    "range.lat = c( 34, 45)\n",
    "period = 1995:1997"
   ]
  },
  {
   "cell_type": "markdown",
   "metadata": {
    "tags": []
   },
   "source": [
    "#### (1) From UDG\n",
    "\n",
    "The UDG provides a homogeneous access point to collections of impact-relevant climate variables and datasets. Whilst some of the datasets therein are open-access, others are available upon request (to register please visit (http://meteo.unican.es/udg-tap/home). For reproducibility, in this notebook we work with open-access datasets so there is no need to register in the UDG service. \n",
    "\n",
    "In the UDG, the datasets (both open and accesed with license) are associated to an UDG label. We can display the labels by calling `UDG.datasets()`."
   ]
  },
  {
   "cell_type": "code",
   "execution_count": null,
   "metadata": {
    "tags": []
   },
   "outputs": [],
   "source": [
    "UDG.datasets()"
   ]
  },
  {
   "cell_type": "markdown",
   "metadata": {},
   "source": [
    "if we focus on ERA-Interim reanalysis [2]..."
   ]
  },
  {
   "cell_type": "code",
   "execution_count": 5,
   "metadata": {},
   "outputs": [
    {
     "name": "stderr",
     "output_type": "stream",
     "text": [
      "Matches found for: REANALYSIS\n",
      "\n",
      "Label names are returned, set argument full.info = TRUE to get more information\n",
      "\n"
     ]
    },
    {
     "data": {
      "text/html": [
       "<strong>$REANALYSIS</strong> = 'ECMWF_ERA-Interim-ESD'"
      ],
      "text/latex": [
       "\\textbf{\\$REANALYSIS} = 'ECMWF\\_ERA-Interim-ESD'"
      ],
      "text/markdown": [
       "**$REANALYSIS** = 'ECMWF_ERA-Interim-ESD'"
      ],
      "text/plain": [
       "$REANALYSIS\n",
       "[1] \"ECMWF_ERA-Interim-ESD\"\n"
      ]
     },
     "metadata": {},
     "output_type": "display_data"
    }
   ],
   "source": [
    "UDG.datasets(\"ERA-Interim\")"
   ]
  },
  {
   "cell_type": "code",
   "execution_count": 6,
   "metadata": {},
   "outputs": [
    {
     "name": "stderr",
     "output_type": "stream",
     "text": [
      "NOTE: Accessing harmonized data from a public UDG dataset\n",
      "\n",
      "[2022-08-25 17:13:07] Defining harmonization parameters for variable \"tas\"\n",
      "\n",
      "[2022-08-25 17:13:07] Opening dataset...\n",
      "\n",
      "[2022-08-25 17:13:17] The dataset was successfuly opened\n",
      "\n",
      "[2022-08-25 17:13:17] Defining geo-location parameters\n",
      "\n",
      "[2022-08-25 17:13:25] Defining time selection parameters\n",
      "\n",
      "[2022-08-25 17:13:25] Retrieving data subset ...\n",
      "\n",
      "[2022-08-25 17:13:33] Done\n",
      "\n"
     ]
    }
   ],
   "source": [
    "grid_udg <- loadGridData(dataset = 'ECMWF_ERA-Interim-ESD', \n",
    "                     var = \"tas\",\n",
    "                     season = 1, \n",
    "                     years = period,\n",
    "                     lonLim = range.lon,\n",
    "                     latLim = range.lat,\n",
    "                     )  "
   ]
  },
  {
   "cell_type": "markdown",
   "metadata": {},
   "source": [
    "However if we focus on the E-OBS dataset [3]..."
   ]
  },
  {
   "cell_type": "code",
   "execution_count": 7,
   "metadata": {},
   "outputs": [
    {
     "name": "stderr",
     "output_type": "stream",
     "text": [
      "Matches found for: OBSERVATIONS\n",
      "\n",
      "Label names are returned, set argument full.info = TRUE to get more information\n",
      "\n"
     ]
    },
    {
     "data": {
      "text/html": [
       "<strong>$OBSERVATIONS</strong> = <style>\n",
       ".list-inline {list-style: none; margin:0; padding: 0}\n",
       ".list-inline>li {display: inline-block}\n",
       ".list-inline>li:not(:last-child)::after {content: \"\\00b7\"; padding: 0 .5ex}\n",
       "</style>\n",
       "<ol class=list-inline><li>'E-OBS_v14_0.50regular'</li><li>'E-OBS_v14_0.44rotated'</li><li>'E-OBS_v14_0.25regular'</li><li>'E-OBS_v14_0.22rotated'</li><li>'E-OBS_v17_0.50regular'</li><li>'E-OBS_v17_0.44rotated'</li><li>'E-OBS_v17_0.25regular'</li><li>'E-OBS_v17_0.22rotated'</li><li>'E-OBS_v21e_0.10regular'</li></ol>\n"
      ],
      "text/latex": [
       "\\textbf{\\$OBSERVATIONS} = \\begin{enumerate*}\n",
       "\\item 'E-OBS\\_v14\\_0.50regular'\n",
       "\\item 'E-OBS\\_v14\\_0.44rotated'\n",
       "\\item 'E-OBS\\_v14\\_0.25regular'\n",
       "\\item 'E-OBS\\_v14\\_0.22rotated'\n",
       "\\item 'E-OBS\\_v17\\_0.50regular'\n",
       "\\item 'E-OBS\\_v17\\_0.44rotated'\n",
       "\\item 'E-OBS\\_v17\\_0.25regular'\n",
       "\\item 'E-OBS\\_v17\\_0.22rotated'\n",
       "\\item 'E-OBS\\_v21e\\_0.10regular'\n",
       "\\end{enumerate*}\n"
      ],
      "text/markdown": [
       "**$OBSERVATIONS** = 1. 'E-OBS_v14_0.50regular'\n",
       "2. 'E-OBS_v14_0.44rotated'\n",
       "3. 'E-OBS_v14_0.25regular'\n",
       "4. 'E-OBS_v14_0.22rotated'\n",
       "5. 'E-OBS_v17_0.50regular'\n",
       "6. 'E-OBS_v17_0.44rotated'\n",
       "7. 'E-OBS_v17_0.25regular'\n",
       "8. 'E-OBS_v17_0.22rotated'\n",
       "9. 'E-OBS_v21e_0.10regular'\n",
       "\n",
       "\n"
      ],
      "text/plain": [
       "$OBSERVATIONS\n",
       "[1] \"E-OBS_v14_0.50regular\"  \"E-OBS_v14_0.44rotated\"  \"E-OBS_v14_0.25regular\" \n",
       "[4] \"E-OBS_v14_0.22rotated\"  \"E-OBS_v17_0.50regular\"  \"E-OBS_v17_0.44rotated\" \n",
       "[7] \"E-OBS_v17_0.25regular\"  \"E-OBS_v17_0.22rotated\"  \"E-OBS_v21e_0.10regular\"\n"
      ]
     },
     "metadata": {},
     "output_type": "display_data"
    }
   ],
   "source": [
    "UDG.datasets(\"E-OBS\")"
   ]
  },
  {
   "cell_type": "markdown",
   "metadata": {},
   "source": [
    "```R\n",
    "grid_udg <- loadGridData(dataset = \"E-OBS_v17_0.50regular\", \n",
    "                     var = \"tas\",\n",
    "                     season = 1:12, \n",
    "                     years = period,\n",
    "                     lonLim = range.lon,\n",
    "                     latLim = range.lat,\n",
    "                     ) \n",
    "```"
   ]
  },
  {
   "cell_type": "markdown",
   "metadata": {},
   "source": [
    "You will need authorization to access E-OBS data stored within the UDG, but this data set can also be side loaded by downloading the corresponding files from ECAD.\n",
    "This is exemplified next."
   ]
  },
  {
   "cell_type": "markdown",
   "metadata": {},
   "source": [
    "#### (2) Directly from .nc (or.ncml) data\n",
    "\n",
    "Here, we illustrate how to feed `loadGridData` with `.nc` files to load them into our `R` session. For this we work with E-OBS [2], which is a observational gridded dataset over Europe ((https://www.ecad.eu/download/ensembles/download.php)). In the below chunk of code we show how to download the `.nc` mean temperature (`tg`) file directly from `R`. "
   ]
  },
  {
   "cell_type": "code",
   "execution_count": 10,
   "metadata": {},
   "outputs": [],
   "source": [
    "eobs.varname <- \"tg\"\n",
    "eobs.data <- sprintf(\"%s_ens_mean_0.1deg_reg_1995-2010_v25.0e.nc\", eobs.varname)\n",
    "if (! file.exists(eobs.data))\n",
    "  download.file(\n",
    "    sprintf(\"https://knmi-ecad-assets-prd.s3.amazonaws.com/ensembles/data/Grid_0.1deg_reg_ensemble/%s\", eobs.data),\n",
    "    eobs.data\n",
    "  )"
   ]
  },
  {
   "cell_type": "markdown",
   "metadata": {},
   "source": [
    "Once we have downloaded the `.nc` file, we call function `loadGridData` which permits to load gridded data intoy our `R` session. In the `dataset` parameter we set the path to the `nc` file ( consider tpying `?loadGridData` for more information). "
   ]
  },
  {
   "cell_type": "code",
   "execution_count": 11,
   "metadata": {},
   "outputs": [
    {
     "name": "stderr",
     "output_type": "stream",
     "text": [
      "[2022-08-25 17:15:56] Defining geo-location parameters\n",
      "\n",
      "[2022-08-25 17:15:56] Defining time selection parameters\n",
      "\n",
      "[2022-08-25 17:15:56] Retrieving data subset ...\n",
      "\n",
      "[2022-08-25 17:16:07] Done\n",
      "\n"
     ]
    }
   ],
   "source": [
    "grid <- loadGridData(dataset = eobs.data, \n",
    "                     var = \"tg\",\n",
    "                     season = 1:12, \n",
    "                     years = period,\n",
    "                     lonLim = range.lon,\n",
    "                     latLim = range.lat,\n",
    "                     )  "
   ]
  },
  {
   "cell_type": "markdown",
   "metadata": {},
   "source": [
    "**¿How does a climate4R object look?** To get insight on the internal structure of a climate4R object we call function `str()`."
   ]
  },
  {
   "cell_type": "code",
   "execution_count": null,
   "metadata": {},
   "outputs": [],
   "source": [
    "str(grid)"
   ]
  },
  {
   "cell_type": "markdown",
   "metadata": {},
   "source": [
    "We distinguish a list of 4 members. The first one contains metadata information about the variable(s) within the object; the second one contains the matrix or array of climate data; the third one contains information about the coordinates of the regular grid; the fourth one contains the dates of the samples. "
   ]
  },
  {
   "cell_type": "markdown",
   "metadata": {},
   "source": [
    "**Diccionario y vocabulario:** In order to load and work with harmonized data we can repeat the above operation using a dictionary file, that defines the necessary name and unit transformations to the standard parameters. Function `C4R.vocabulary` displays the climate4R standard variable naming and units:"
   ]
  },
  {
   "cell_type": "code",
   "execution_count": null,
   "metadata": {},
   "outputs": [],
   "source": [
    "C4R.vocabulary()"
   ]
  },
  {
   "cell_type": "markdown",
   "metadata": {},
   "source": [
    "In this case, the only non-standard parameter in the E-OBS dataset is the variable name (\"tg\"), however, we could perform further loading requests using the standard name if a dictionary file is crated previously (see the [`loadeR` wiki](https://github.com/SantanderMetGroup/loadeR/wiki/Harmonization)). This can be done easily, for instance, in the following manner:"
   ]
  },
  {
   "cell_type": "code",
   "execution_count": null,
   "metadata": {},
   "outputs": [],
   "source": [
    "file.create(\"./dicEOBS.dic\")\n",
    "writeLines(c(\"identifier,short_name,time_step,lower_time_bound,upper_time_bound, cell_method,offset,scale,deaccum,derived,interface\",\n",
    "             \"tas,tg,24h,0,24,mean,0,1,0,0,\"), \"./dicEOBS.dic\")"
   ]
  },
  {
   "cell_type": "markdown",
   "metadata": {},
   "source": [
    "We call again function `loadGridData` but pointing the parameter `dictionary` to the `.dic` file built in the previous cell code. "
   ]
  },
  {
   "cell_type": "code",
   "execution_count": null,
   "metadata": {},
   "outputs": [],
   "source": [
    "grid <- loadGridData(eobs.data, \n",
    "                     var = \"tas\",\n",
    "                     season = 1:12, \n",
    "                     years = 1991:1995,\n",
    "                     lonLim = c(-10,30),\n",
    "                     latLim = c(34,75),\n",
    "                     dictionary = \"dicEOBS.dic\"\n",
    "                     ) \n",
    "sprintf(\"And now the variable name is %s\", grid$Variable$varName)"
   ]
  },
  {
   "cell_type": "markdown",
   "metadata": {},
   "source": [
    "### TransformeR - Transformation of climate data\n",
    "In this section we explore some main functionalities of package `transformeR`. In particular we describe (1) how to select/subset climate data by date and/or coordinates (i.e., subet the January months for the period 1980-1985) from a climate4R object, (2) how to aggregate climate data based on an index/statistic along a spatial and/or temporal dimension, and (3) how to compute a climatology of a given statistic.\n",
    "\n",
    "**(1) Select/subset climate data**: `subsetGrid`"
   ]
  },
  {
   "cell_type": "code",
   "execution_count": null,
   "metadata": {},
   "outputs": [],
   "source": [
    "### Seleccionar los Eneros\n",
    "# grid_january <- subsetGrid(grid, season = 1)\n",
    "str(grid_january$Data)\n",
    "\n",
    "### Seleccionar los años 1991:1992\n",
    "# grid_1991_1992 <- subsetGrid(grid, years = 1991:1992)\n",
    "str(grid_1991_1992$Data)\n",
    "\n",
    "### Seleccionar el dominio de la Península Ibérica\n",
    "# grid_iberia <- subsetGrid(grid, lonLim = c(-8,2), latLim = c(36,44))\n",
    "str(grid_iberia$Data)"
   ]
  },
  {
   "cell_type": "markdown",
   "metadata": {},
   "source": [
    "**(2) Aggregate climate data**: `aggregateGrid`"
   ]
  },
  {
   "cell_type": "code",
   "execution_count": null,
   "metadata": {},
   "outputs": [],
   "source": [
    "### Calcular la media de cada año\n",
    "grid_annual <- aggregateGrid(grid, aggr.y = list(FUN = 'mean', na.rm = TRUE))\n",
    "str(grid_annual$Data)\n",
    "\n",
    "### Calcular la media de cada mes\n",
    "grid_season <- aggregateGrid(grid, aggr.m = list(FUN = 'mean', na.rm = TRUE))\n",
    "str(grid_season$Data)"
   ]
  },
  {
   "cell_type": "markdown",
   "metadata": {},
   "source": [
    "**(3) Compute climatologies**: `climatology`"
   ]
  },
  {
   "cell_type": "code",
   "execution_count": null,
   "metadata": {},
   "outputs": [],
   "source": [
    "### Calcular la climatología media\n",
    "grid_clim <- climatology(grid, clim.fun = list(FUN = 'mean', na.rm = TRUE))\n",
    "str(grid_clim$Data)"
   ]
  },
  {
   "cell_type": "markdown",
   "metadata": {},
   "source": [
    "### VisualizeR - Visualization of climate data\n",
    "In this section we explore the main functionalities of `visualizeR`. In particular we illustrate the use of 2 core functions of the package, namely `spatialPlot` and `temporalPlot`. The former permits to display spatial maps whilst the latter graphic temporal series (we recomend the user to type `?spatialPlot` and `?temporalPlot` for more information). We use the objects previously computed above to illustrate the functioning of both functions. "
   ]
  },
  {
   "cell_type": "code",
   "execution_count": null,
   "metadata": {},
   "outputs": [],
   "source": [
    "### Mean climatology\n",
    "color_palette <- colorRampPalette(brewer.pal(n = 9, \"Reds\"))\n",
    "spatialPlot(grid_clim,\n",
    "            backdrop.theme = \"countries\",\n",
    "            at = seq(0, 20, 2), \n",
    "            col.regions = color_palette,\n",
    "            main = 'Climatology of surface air temperature for the period 1991-1995 (ºC)'\n",
    "            )"
   ]
  },
  {
   "cell_type": "code",
   "execution_count": null,
   "metadata": {},
   "outputs": [],
   "source": [
    "### Temporal serie 1991-1992 \n",
    "temporalPlot(\"E-OBS\" = grid_1991_1992, \n",
    "             xyplot.custom = list(xlab = \"\",\n",
    "                                  ylab = \"\",\n",
    "                                  main = \"Serie of surface air temperature for the period 1991-1992 (ºC)\"\n",
    "                                 )\n",
    "            )"
   ]
  },
  {
   "cell_type": "code",
   "execution_count": null,
   "metadata": {},
   "outputs": [],
   "source": [
    "### Temporal serie 1991-1992 for (1) Europe and (2) the Iberian peninsula\n",
    "grid_1991_1992_iberia <- subsetGrid(grid, \n",
    "                          years = 1991:1992,\n",
    "                          lonLim = c(-8,2), \n",
    "                          latLim = c(36,44))\n",
    "\n",
    "temporalPlot(\"E-OBS (Europe)\" = grid_1991_1992, \n",
    "             \"E-OBS (Iberia)\" = grid_1991_1992_iberia,\n",
    "             xyplot.custom = list(xlab = \"\",\n",
    "                                  ylab = \"\",\n",
    "                                  main = \"Serie of surface air temperature for the period 1991-1992 (ºC)\"\n",
    "                                 )\n",
    "            )"
   ]
  },
  {
   "cell_type": "markdown",
   "metadata": {},
   "source": [
    "**Exercises:** respond to the following questions"
   ]
  },
  {
   "cell_type": "code",
   "execution_count": null,
   "metadata": {},
   "outputs": [],
   "source": [
    "### Select the all July samples/days\n",
    "\n",
    "### Aggregate all July months using the mean (i.e., for each month of July compute the mean over their 31-day period)\n",
    "\n",
    "### Display the temporal serie\n",
    "\n",
    "### Compute the same temporal serie but for January\n",
    "\n",
    "### Display both July and January temporal series in the same temporal serie plot."
   ]
  },
  {
   "cell_type": "code",
   "execution_count": null,
   "metadata": {},
   "outputs": [],
   "source": [
    "### Subset the Iberian peninsula (coordinates: lonLim = c(-8,2), latLim = c(36,44))\n",
    "\n",
    "### Compute the climatology of the 2nd quantile using function `quantile` from base R \n",
    "### (consider typing ?quantile).\n",
    "\n",
    "### Display the spatial map"
   ]
  },
  {
   "cell_type": "markdown",
   "metadata": {
    "tags": []
   },
   "source": [
    "## Case study: Computing climate change signals of global climate simulations with climate4R\n",
    "In this section we work over a case of study with climate4R. The main purpose is to compute climate change signals (i.e., difference of an index/statistic between its future and historical value) of global climate simulations. In particular we focus on the 12th run of the EC-Earth [4] climate model, which is freely available from UDG. \n",
    "\n",
    "To compute the signals we load the air surface temperatue (`tas`) of both the historical and RCP8.5 (Radiative Concentration Pathway of 8.5 W/m2) emission scenarios, using `loadGridData` function. To call `loadGridData` we previously have to check the UDG label by typing `UDG.datasets(pattern = \"CMIP5-subset\")`, and then call `dataInventory` to display the available variables. "
   ]
  },
  {
   "cell_type": "code",
   "execution_count": null,
   "metadata": {},
   "outputs": [],
   "source": [
    "UDG.datasets(pattern = \"CMIP5-subset\")\n",
    "di <- dataInventory(\"CMIP5-subset_EC-EARTH_r12i1p1_historical\")"
   ]
  },
  {
   "cell_type": "markdown",
   "metadata": {},
   "source": [
    "The cell below shows how to load both scenarios into our `R` session:"
   ]
  },
  {
   "cell_type": "code",
   "execution_count": null,
   "metadata": {},
   "outputs": [],
   "source": [
    "# NOTE: For computational efficieny we lean on a 10-year period instead of \n",
    "# the 30-year one commonly used in climate change studies\n",
    "\n",
    "### Loading the historical scenario (1990:2000)\n",
    "grid_hist <- loadGridData('CMIP5-subset_EC-EARTH_r12i1p1_historical', \n",
    "                     var = \"tas\",\n",
    "                     season = 1:12, \n",
    "                     years = 1990:2000, \n",
    "                     lonLim = c(-8,2), \n",
    "                     latLim = c(36,44),\n",
    "                     )  \n",
    "\n",
    "### Loading the RCP8.5 scenario (2090:2100)\n",
    "grid_rcp85 <- loadGridData('CMIP5-subset_EC-EARTH_r12i1p1_rcp85', \n",
    "                     var = \"tas\",\n",
    "                     season = 1:12, \n",
    "                     years = 2090:2100,\n",
    "                     lonLim = c(-8,2), \n",
    "                     latLim = c(36,44),\n",
    "                     ) "
   ]
  },
  {
   "cell_type": "markdown",
   "metadata": {},
   "source": [
    "We compute the mean climatologies of air surface temperature in both scenarios using the function `climatology`..."
   ]
  },
  {
   "cell_type": "code",
   "execution_count": null,
   "metadata": {},
   "outputs": [],
   "source": [
    "### Climatology in the historical scenario\n",
    "grid_hist_clim <- climatology(grid_hist, \n",
    "                              clim.fun = list(FUN = \"mean\", na.rm = TRUE))\n",
    "\n",
    "### Climatology in the RCP8.5 scenario\n",
    "grid_rcp85_clim <- climatology(grid_rcp85, \n",
    "                               clim.fun = list(FUN = \"mean\", na.rm = TRUE))"
   ]
  },
  {
   "cell_type": "markdown",
   "metadata": {},
   "source": [
    "...and then use these fields to compute the climate change signal by calling `transformeR` function `gridArithmetics`."
   ]
  },
  {
   "cell_type": "code",
   "execution_count": null,
   "metadata": {},
   "outputs": [],
   "source": [
    "### Climate change signal\n",
    "climate_change_signal <- gridArithmetics(grid_rcp85_clim, \n",
    "                                         grid_hist_clim, \n",
    "                                         operator = \"-\")"
   ]
  },
  {
   "cell_type": "markdown",
   "metadata": {},
   "source": [
    "Finally we call `spatialPlot` to display the signal."
   ]
  },
  {
   "cell_type": "code",
   "execution_count": null,
   "metadata": {},
   "outputs": [],
   "source": [
    "### Displaying signal (without set.min and set.max)\n",
    "color_palette <- colorRampPalette(brewer.pal(n = 9, \"Reds\"))\n",
    "spatialPlot(climate_change_signal,\n",
    "            backdrop.theme = \"countries\",\n",
    "            at = seq(0, 5, 0.5),\n",
    "            col.regions = color_palette,\n",
    "            main = 'Climate change signal of surface temperature (2090-2100 / 1990-2000)'\n",
    "            )\n",
    "\n",
    "### Displaying signal (with set.min and set.max)\n",
    "spatialPlot(climate_change_signal,\n",
    "            backdrop.theme = \"countries\",\n",
    "            at = seq(0, 5, 0.5),\n",
    "            set.min = 0, \n",
    "            set.max = 5,\n",
    "            col.regions = color_palette,\n",
    "            main = 'Climate change signal of surface temperature (2090-2100 / 1990-2000)'\n",
    "            )"
   ]
  },
  {
   "cell_type": "markdown",
   "metadata": {},
   "source": [
    "**Exercises:** answer the following questions considering the geographical area of Argentina:"
   ]
  },
  {
   "cell_type": "code",
   "execution_count": null,
   "metadata": {},
   "outputs": [],
   "source": [
    "### Load historical scenario\n",
    "\n",
    "### Load RCP8.5 scenario\n",
    "\n",
    "### Compute the following index\n",
    " ### Mean\n",
    " ### Mean of summer months\n",
    " ### Mean of winter months\n",
    " ### Summer Index (SU): number of annual days with values exceeding 25ºC (consider using function binaryGrid)\n",
    "\n",
    "### Compute the climate change signal of the above index\n",
    " ### Mean\n",
    " ### Mean of summer months\n",
    " ### Mean of winter months\n",
    " ### Summer Index (SU): number of annual days with values exceeding 25ºC \n",
    "\n",
    "### Display the spatial maps of the climate change signals\n",
    " ### Mean\n",
    " ### Mean of summer months\n",
    " ### Mean of winter months\n",
    " ### Summer Index (SU): number of annual days with values exceeding 25ºC \n",
    "\n",
    "\n",
    "### Display the temporal serie of the Summer Index for the entire Argentina (label x: year, label y: nº of days)\n",
    "\n",
    "### Display the temporal serie of the Summer Index of Buenos Aires and compare it to the value for the \n",
    "### entire Argentina (label x: year, label y: nº of days)"
   ]
  },
  {
   "cell_type": "markdown",
   "metadata": {},
   "source": [
    "**Interpolation and multi-member objects:** `interpGrid` and `bindGrid`\n",
    "Below we illustrate how to create multi-member climate4R objects using function `bindGrid`. These might be of interest when working with different climate simulations or different simulation runs, for example. TO illustrate this situation we download the CNRM-CM5 simulation for the same period and domain than the ones previously set for the EC-Earth. "
   ]
  },
  {
   "cell_type": "code",
   "execution_count": null,
   "metadata": {},
   "outputs": [],
   "source": [
    "### Loading the RCP8.5 scenario (2090:2100) for the global climate model CNRM-CM5\n",
    "grid_rcp85_cnrm <- loadGridData('CMIP5-subset_CNRM-CM5_r1i1p1_rcp85', \n",
    "                     var = \"tas\",\n",
    "                     season = 1:12, \n",
    "                     years = 2090:2100,\n",
    "                     lonLim = c(-8,2), \n",
    "                     latLim = c(36,44),\n",
    "                     ) \n",
    "\n",
    "### Climatology in the RCP8.5 scenario\n",
    "grid_rcp85_cnrm_clim <- climatology(grid_rcp85_cnrm, \n",
    "                               clim.fun = list(FUN = \"mean\", na.rm = TRUE))\n",
    "\n",
    "\n",
    "print(\"The EC-Earth spatial resolution is...\")\n",
    "str(grid_rcp85_clim$xyCoords)\n",
    "\n",
    "print(\"The CNRM-CM5 spatial resolution is...\")\n",
    "str(grid_rcp85_cnrm_clim$xyCoords)"
   ]
  },
  {
   "cell_type": "markdown",
   "metadata": {},
   "source": [
    "Since the datasets considered do not have the same spatial resolution we can not bind them into a single climate4R object. To overcome this issue, we call function `interpGrid` to interpolate one of the grids to the spatial resolution of the other simulation using the bilinear method. "
   ]
  },
  {
   "cell_type": "code",
   "execution_count": null,
   "metadata": {},
   "outputs": [],
   "source": [
    "grid_rcp85_cnrm_clim_interp <- interpGrid(grid_rcp85_cnrm_clim, \n",
    "                                          new.coordinates = getGrid(grid_rcp85_clim),\n",
    "                                          method = 'bilinear')"
   ]
  },
  {
   "cell_type": "markdown",
   "metadata": {},
   "source": [
    "Finally we bind the grids into a single climate4R object..."
   ]
  },
  {
   "cell_type": "code",
   "execution_count": null,
   "metadata": {},
   "outputs": [],
   "source": [
    "grid_rcp85_2gcms <- bindGrid(grid_rcp85_clim, grid_rcp85_cnrm_clim_interp)\n",
    "str(grid_rcp85_2gcms$Data)"
   ]
  },
  {
   "cell_type": "markdown",
   "metadata": {},
   "source": [
    "We call `spatialPlot` to display the fields."
   ]
  },
  {
   "cell_type": "code",
   "execution_count": null,
   "metadata": {},
   "outputs": [],
   "source": [
    "### Displaying signal\n",
    "spatialPlot(grid_rcp85_2gcms,\n",
    "            backdrop.theme = \"countries\",\n",
    "            at = seq(10, 30, 2),\n",
    "            set.min = 10, \n",
    "            set.max = 30,\n",
    "            col.regions = color_palette,\n",
    "            main = 'Climate change signal of surface temperature (2090-2100 / 1990-2000)'\n",
    "            )"
   ]
  },
  {
   "cell_type": "markdown",
   "metadata": {},
   "source": [
    "**Exercises:** can you compute the ensemble mean? and the ensemble dispersion (standard deviation)? (consider using function aggregateGrid) Display the fields."
   ]
  },
  {
   "cell_type": "code",
   "execution_count": null,
   "metadata": {},
   "outputs": [],
   "source": [
    "### Ensemble mean\n",
    "\n",
    "### Ensemble standard deviation"
   ]
  },
  {
   "cell_type": "markdown",
   "metadata": {},
   "source": [
    "## References\n",
    "\n",
    "[1] Iturbide, Maialen, et al. \"The R-based climate4R open framework for reproducible climate data access and post-processing.\" Environmental Modelling & Software 111 (2019): 42-54.*\n",
    "\n",
    "[2] Dee, Dick P., et al. \"The ERA‐Interim reanalysis: Configuration and performance of the data assimilation system.\" Quarterly Journal of the royal meteorological society 137.656 (2011): 553-597.\n",
    "\n",
    "[3] Cornes, Richard C., et al. \"An ensemble version of the E‐OBS temperature and precipitation data sets.\" Journal of Geophysical Research: Atmospheres 123.17 (2018): 9391-9409.\n",
    "\n",
    "[4] Doblas Reyes, Francisco, et al. \"Using EC-Earth for climate prediction research.\" ECMWF Newsletter 154 (2018): 35-40."
   ]
  }
 ],
 "metadata": {
  "kernelspec": {
   "display_name": "R",
   "language": "R",
   "name": "ir"
  },
  "language_info": {
   "codemirror_mode": "r",
   "file_extension": ".r",
   "mimetype": "text/x-r-source",
   "name": "R",
   "pygments_lexer": "r",
   "version": "3.6.3"
  }
 },
 "nbformat": 4,
 "nbformat_minor": 4
}
